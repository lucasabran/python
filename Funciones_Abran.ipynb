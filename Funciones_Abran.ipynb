{
 "cells": [
  {
   "cell_type": "code",
   "execution_count": 9,
   "id": "f9b210e8",
   "metadata": {},
   "outputs": [
    {
     "name": "stdout",
     "output_type": "stream",
     "text": [
      "ingresar numero a factorizar : 8\n",
      "resultado es :40320\n"
     ]
    }
   ],
   "source": [
    "###funcion para factorizar\n",
    "\n",
    "n=int(input(\"ingresar numero a factorizar : \"))\n",
    "def factorial(n):\n",
    "    if (n==0):\n",
    "        return 1\n",
    "    else:\n",
    "        return n * factorial(n-1)\n",
    "print(\"resultado es :\"  + str(factorial(n)))\n",
    "   "
   ]
  },
  {
   "cell_type": "code",
   "execution_count": null,
   "id": "d0e3d18e",
   "metadata": {},
   "outputs": [],
   "source": []
  },
  {
   "cell_type": "code",
   "execution_count": 17,
   "id": "d7e98127",
   "metadata": {},
   "outputs": [
    {
     "name": "stdout",
     "output_type": "stream",
     "text": [
      "ingrese numero  : 600\n",
      "180300\n"
     ]
    }
   ],
   "source": [
    "###funcion para sumar series de numeros\n",
    "\n",
    "\n",
    "n=int(input(\"ingrese numero  : \"))\n",
    "def suma_serie(n):\n",
    "    total = 0\n",
    "    \n",
    "    for i in range(1,n + 1):\n",
    "        total= total +i\n",
    "    return total\n",
    "    \n",
    "print(suma_serie(n))\n"
   ]
  },
  {
   "cell_type": "code",
   "execution_count": null,
   "id": "14611369",
   "metadata": {},
   "outputs": [],
   "source": []
  }
 ],
 "metadata": {
  "kernelspec": {
   "display_name": "Python 3",
   "language": "python",
   "name": "python3"
  },
  "language_info": {
   "codemirror_mode": {
    "name": "ipython",
    "version": 3
   },
   "file_extension": ".py",
   "mimetype": "text/x-python",
   "name": "python",
   "nbconvert_exporter": "python",
   "pygments_lexer": "ipython3",
   "version": "3.8.8"
  }
 },
 "nbformat": 4,
 "nbformat_minor": 5
}
