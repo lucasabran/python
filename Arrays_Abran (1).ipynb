{
 "cells": [
  {
   "cell_type": "code",
   "execution_count": 3,
   "id": "2d57a945",
   "metadata": {},
   "outputs": [
    {
     "name": "stdout",
     "output_type": "stream",
     "text": [
      "[0.94775049 0.91823813 0.9509972  0.02046114 0.50443289 0.03782189\n",
      " 0.79068968 0.12440748 0.31389182 0.55515593 0.71561779 0.46774468\n",
      " 0.57006439 0.20936342 0.33047449 0.15042485 0.62601739 0.7061536\n",
      " 0.62123444 0.91093674 0.48627207 0.91128916 0.81030614 0.41957095\n",
      " 0.89217428 0.96629262 0.80608815 0.42868801 0.94511351 0.58553852\n",
      " 0.76491771 0.07706596 0.51689807 0.91514536 0.68406252 0.3983937\n",
      " 0.17537437 0.3905769  0.78558502 0.50400748 0.68916948 0.18568546\n",
      " 0.8852057  0.30319082 0.01830064 0.31619213 0.28084765 0.67358568\n",
      " 0.2360042  0.79685781 0.07439304 0.24103709 0.36140223 0.65356047\n",
      " 0.97358691 0.89923292 0.30556354 0.62848064 0.70011403 0.98917583\n",
      " 0.09160695 0.23692523 0.00151402 0.22930155 0.49897969 0.39384903\n",
      " 0.3902201  0.28460991 0.39312398 0.86575891 0.13349554 0.80596751\n",
      " 0.47741755 0.27294607 0.5828074  0.58351857 0.37430472 0.18693562\n",
      " 0.8673453  0.04319567 0.95364616 0.53344358 0.28369113 0.68564435\n",
      " 0.57278883 0.08254483 0.7709382  0.1241721  0.95680628 0.10822741\n",
      " 0.60470376 0.50159995 0.97186381 0.10053202 0.4917713  0.82144716\n",
      " 0.39437658 0.15323959 0.38640879 0.04642324]\n",
      "mediana:   0.5002898214363489\n"
     ]
    }
   ],
   "source": [
    "import numpy as np\n",
    "### consigna 1\n",
    "data=np.random.rand(100)\n",
    "print (data)\n",
    "print(\"mediana:  \", np.median(data))"
   ]
  },
  {
   "cell_type": "code",
   "execution_count": 16,
   "id": "5c82cc99",
   "metadata": {},
   "outputs": [
    {
     "data": {
      "text/plain": [
       "array([0., 0., 0., 0., 0., 0., 0., 0., 0., 0.])"
      ]
     },
     "execution_count": 16,
     "metadata": {},
     "output_type": "execute_result"
    }
   ],
   "source": [
    "###consigna 2Escribir una función para calcular el factorial de un número cualquiera.\n",
    "##Escribir una función para calcular la suma de una serie comenzando por un número cualquiera y terminando en otro número que debe ser mayor al primero.\n",
    "Array_zeros = np.zeros(10)\n",
    "Array_zeros\n"
   ]
  },
  {
   "cell_type": "code",
   "execution_count": 11,
   "id": "eebae68a",
   "metadata": {},
   "outputs": [
    {
     "name": "stdout",
     "output_type": "stream",
     "text": [
      "[4.3000e+04 6.3000e+04 1.2700e+05 ... 4.5753e+04 7.2000e+01 6.5000e+04]\n",
      "mediana:   76000.0\n",
      "media:   19309452.112037756\n"
     ]
    }
   ],
   "source": [
    "###consigna 3\n",
    "A = np.loadtxt('neto1.txt')\n",
    "print(A)\n",
    "print(\"mediana:  \", np.median(A))\n",
    "print (\"media:  \" , A.mean())\n"
   ]
  }
 ],
 "metadata": {
  "kernelspec": {
   "display_name": "Python 3",
   "language": "python",
   "name": "python3"
  },
  "language_info": {
   "codemirror_mode": {
    "name": "ipython",
    "version": 3
   },
   "file_extension": ".py",
   "mimetype": "text/x-python",
   "name": "python",
   "nbconvert_exporter": "python",
   "pygments_lexer": "ipython3",
   "version": "3.8.8"
  }
 },
 "nbformat": 4,
 "nbformat_minor": 5
}
